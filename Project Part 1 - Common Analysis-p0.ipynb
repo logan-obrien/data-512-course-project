{
 "cells": [
  {
   "cell_type": "markdown",
   "id": "678b28cb",
   "metadata": {},
   "source": [
    "# Project Part 1 - Common Analysis"
   ]
  },
  {
   "cell_type": "markdown",
   "id": "984f6063",
   "metadata": {},
   "source": [
    "**Author: Logan O'Brien** "
   ]
  },
  {
   "cell_type": "markdown",
   "id": "39413436",
   "metadata": {},
   "source": [
    "## Step 1: Create the Fire Smoke Estimates"
   ]
  },
  {
   "cell_type": "markdown",
   "id": "eea54621",
   "metadata": {},
   "source": [
    "First, I import the packages I will need for this assignment"
   ]
  },
  {
   "cell_type": "code",
   "execution_count": 28,
   "id": "c9c57e7d",
   "metadata": {},
   "outputs": [],
   "source": [
    "import os, json, time\n",
    "from pyproj import Transformer, Geod\n",
    "\n",
    "#importing [4]\n",
    "from wildfire.Reader import Reader as WFReader\n",
    "\n",
    "import numpy as np\n",
    "import requests\n",
    "from tqdm import tqdm"
   ]
  },
  {
   "cell_type": "markdown",
   "id": "4f99b3cd",
   "metadata": {},
   "source": [
    "### Load Data"
   ]
  },
  {
   "cell_type": "markdown",
   "id": "97603c99",
   "metadata": {},
   "source": [
    "**We begin by reading in the data:**\n",
    "- Note, I heavily rely upon Dr. McDonald's \"wildfire_geo_proximity_example.ipynb\" to learn how the wildfire data is structured as well as how to work with it [3]. Additionally, I reused, with modification, the following _____ cells from that notebook below."
   ]
  },
  {
   "cell_type": "markdown",
   "id": "407765b4",
   "metadata": {},
   "source": [
    "**---------------------------BEGIN PROF CODE REUSE ---------------------------**"
   ]
  },
  {
   "cell_type": "code",
   "execution_count": 29,
   "id": "bce1097b",
   "metadata": {},
   "outputs": [],
   "source": [
    "# I modified this file path to make it point to where I stored the file\n",
    "SAMPLE_DATA_FILENAME = './wildfire/Wildfire_short_sample.json'\n",
    "# SAMPLE_DATA_FILENAME = './data/USGS_Wildland_Fire_Combined_Dataset.json'"
   ]
  },
  {
   "cell_type": "markdown",
   "id": "c9610a6e",
   "metadata": {},
   "source": [
    "Load the data"
   ]
  },
  {
   "cell_type": "code",
   "execution_count": 30,
   "id": "1edd2437",
   "metadata": {},
   "outputs": [
    {
     "name": "stdout",
     "output_type": "stream",
     "text": [
      "Attempting to open './wildfire/Wildfire_short_sample.json' with wildfire.Reader() object\n"
     ]
    }
   ],
   "source": [
    "#\n",
    "#    This bit of code opens a new wildfire reader, gets the header information and prints it to the screen\n",
    "#\n",
    "print(f\"Attempting to open '{SAMPLE_DATA_FILENAME}' with wildfire.Reader() object\")\n",
    "wfreader = WFReader(SAMPLE_DATA_FILENAME)"
   ]
  },
  {
   "cell_type": "markdown",
   "id": "9822bdc4",
   "metadata": {},
   "source": [
    "Define several functions for distance"
   ]
  },
  {
   "cell_type": "code",
   "execution_count": 31,
   "id": "92b59fed",
   "metadata": {},
   "outputs": [],
   "source": [
    "#\n",
    "#    Transform feature geometry data\n",
    "#\n",
    "#    The function takes one parameter, a list of ESRI:102008 coordinates that will be transformed to EPSG:4326\n",
    "#    The function returns a list of coordinates in EPSG:4326\n",
    "def convert_ring_to_epsg4326(ring_data=None):\n",
    "    converted_ring = list()\n",
    "    #\n",
    "    # We use a pyproj transformer that converts from ESRI:102008 to EPSG:4326 to transform the list of coordinates\n",
    "    to_epsg4326 = Transformer.from_crs(\"ESRI:102008\",\"EPSG:4326\")\n",
    "    # We'll run through the list transforming each ESRI:102008 x,y coordinate into a decimal degree lat,lon\n",
    "    for coord in ring_data:\n",
    "        lat,lon = to_epsg4326.transform(coord[0],coord[1])\n",
    "        new_coord = lat,lon\n",
    "        converted_ring.append(new_coord)\n",
    "    return converted_ring"
   ]
  },
  {
   "cell_type": "markdown",
   "id": "9ecdb8e6",
   "metadata": {},
   "source": [
    "**Modification Removed first function**"
   ]
  },
  {
   "cell_type": "code",
   "execution_count": 32,
   "id": "2d0efd4e",
   "metadata": {},
   "outputs": [],
   "source": [
    "#    \n",
    "#    The function takes two parameters\n",
    "#        A place - which is coordinate point (list or tuple with two items, (lat,lon) in decimal degrees EPSG:4326\n",
    "#        Ring_data - a list of decimal degree coordinates for the fire boundary\n",
    "#\n",
    "#    The function returns the average miles from boundary to the place\n",
    "#\n",
    "def average_distance_from_place_to_fire_perimeter(place=None,ring_data=None):\n",
    "    # convert the ring data to the right coordinate system\n",
    "    ring = convert_ring_to_epsg4326(ring_data)    \n",
    "    # create a epsg4326 compliant object - which is what the WGS84 ellipsoid is\n",
    "    geodcalc = Geod(ellps='WGS84')\n",
    "    # create a list to store our results\n",
    "    distances_in_meters = list()\n",
    "    # run through each point in the converted ring data\n",
    "    for point in ring:\n",
    "        # calculate the distance\n",
    "        d = geodcalc.inv(place[1],place[0],point[1],point[0])\n",
    "        distances_in_meters.append(d[2])\n",
    "    #print(\"Got the following list:\",distances_in_meters)\n",
    "    # convert meters to miles\n",
    "    distances_in_miles = [meters*0.00062137 for meters in distances_in_meters]\n",
    "    # the esri polygon shape (the ring) requires that the first and last coordinates be identical to 'close the region\n",
    "    # we remove one of them so that we don't bias our average by having two of the same point\n",
    "    distances_in_miles_no_dup = distances_in_miles[1:]\n",
    "    # now, average miles\n",
    "    average = sum(distances_in_miles_no_dup)/len(distances_in_miles_no_dup)\n",
    "    return average"
   ]
  },
  {
   "cell_type": "markdown",
   "id": "2333bb85",
   "metadata": {},
   "source": [
    "Compute the distances"
   ]
  },
  {
   "cell_type": "markdown",
   "id": "de0de01e",
   "metadata": {},
   "source": [
    "**Note: I used Google to find the latitute and longitude for my city [5].**"
   ]
  },
  {
   "cell_type": "markdown",
   "id": "34bb4a81",
   "metadata": {},
   "source": [
    "I created a constant in a form that would play nicely with the code snippets I reused from [3]."
   ]
  },
  {
   "cell_type": "code",
   "execution_count": 33,
   "id": "ad372e0c",
   "metadata": {},
   "outputs": [],
   "source": [
    "#LOGAN's Code:\n",
    "# Define the data for my city, Richland WA:\n",
    "CITY = {\n",
    "    'city' : 'Richland',\n",
    "    'latlon' : [46.28569070, -119.28446210]\n",
    "}"
   ]
  },
  {
   "cell_type": "markdown",
   "id": "42578807",
   "metadata": {},
   "source": [
    "**Modified cell below by replacing Redding with my city as the starting location and removing resulting irrelevant code and comments. I also added a line to extract the id from each feature/fire**\n",
    "- removed portion computing shortest distance to closest point approach\n",
    "- Commented out feature attributes I didn't need\n",
    "- Commented out the two print statements below the distance variable definition\n",
    "- added fires_in_range dictionary\n"
   ]
  },
  {
   "cell_type": "markdown",
   "id": "f87b27a1",
   "metadata": {},
   "source": [
    "Now, let's use the Professor's reader program to read in the data and filter it to the right years and distance from my city"
   ]
  },
  {
   "cell_type": "code",
   "execution_count": 34,
   "id": "8e68c3a8",
   "metadata": {},
   "outputs": [
    {
     "name": "stdout",
     "output_type": "stream",
     "text": [
      "Loaded a total of 13 features\n",
      "Variable 'feature_list' contains 13 features\n"
     ]
    }
   ],
   "source": [
    "#LO: Takes about 12 min to run\n",
    "#\n",
    "#    This sample code will load the whole sample file, or a small amount of the complete dataset.\n",
    "#\n",
    "MAX_FEATURE_LOAD = 500\n",
    "feature_list = list()\n",
    "feature_count = 0\n",
    "# A rewind() on the reader object makes sure we're at the start of the feature list\n",
    "# This way, we can execute this cell multiple times and get the same result \n",
    "wfreader.rewind()\n",
    "# Now, read through each of the features, saving them as dictionaries into a list\n",
    "feature = wfreader.next()\n",
    "while feature:\n",
    "    feature_list.append(feature)\n",
    "    feature_count += 1\n",
    "    # if we're loading a lot of features, print progress\n",
    "    if (feature_count % 100) == 0:\n",
    "        print(f\"Loaded {feature_count} features\")\n",
    "    # loaded the max we're allowed then break\n",
    "#     if feature_count >= MAX_FEATURE_LOAD:\n",
    "#         break\n",
    "    feature = wfreader.next()\n",
    "#\n",
    "#    Print the number of items (features) we think we loaded\n",
    "print(f\"Loaded a total of {feature_count} features\")\n",
    "#\n",
    "#    Just a validation check - did all the items we loaded get into the list?\n",
    "print(f\"Variable 'feature_list' contains {len(feature_list)} features\")"
   ]
  },
  {
   "cell_type": "markdown",
   "id": "2adb5ae0",
   "metadata": {},
   "source": [
    "Now, let's filter to only the features we care about **Note: I removed many lines from a prof's cell of code because it was not needed**"
   ]
  },
  {
   "cell_type": "code",
   "execution_count": 16,
   "id": "c1318335",
   "metadata": {},
   "outputs": [],
   "source": [
    "feature_list_archive = feature_list"
   ]
  },
  {
   "cell_type": "markdown",
   "id": "69fa07df",
   "metadata": {},
   "source": [
    "- https://stackoverflow.com/questions/12268930/create-json-with-multiple-dictionaries-python\n",
    "- https://www.geeksforgeeks.org/reading-and-writing-json-to-a-file-in-python/#"
   ]
  },
  {
   "cell_type": "markdown",
   "id": "5cb0cef7",
   "metadata": {},
   "source": [
    "LO: ???? do I need to cite my own code snippet about writing to the file?"
   ]
  },
  {
   "cell_type": "code",
   "execution_count": 38,
   "id": "b6aabfb3",
   "metadata": {},
   "outputs": [
    {
     "name": "stderr",
     "output_type": "stream",
     "text": [
      "100%|███████████████████████████████████████████████████████████████████████████████████| 13/13 [00:00<00:00, 16.41it/s]\n"
     ]
    },
    {
     "name": "stdout",
     "output_type": "stream",
     "text": [
      "Done!\n"
     ]
    }
   ],
   "source": [
    "fires_in_range_list = []\n",
    "\n",
    "for wf_feature in tqdm(feature_list):\n",
    "    wf_id = wf_feature['attributes']['OBJECTID']\n",
    "    \n",
    "    \n",
    "    wf_year = wf_feature['attributes']['Fire_Year']\n",
    "    #\n",
    "    #     Compute using the average distance to all points on the perimeter\n",
    "    #\n",
    "    ring_data = wf_feature['geometry']['rings'][0]\n",
    "    distance = average_distance_from_place_to_fire_perimeter(CITY['latlon'],ring_data)\n",
    "    \n",
    "    #--------LO: new code below -----------\n",
    "    # Make sure the fire occurred within the required time range and distance from Richland\n",
    "    if (1963 <= wf_year) and (distance <= 1250):        \n",
    "        #-----------TBD add more fields as needed and switch from list to dictionary\n",
    "        fires_in_range_list.append(wf_feature)\n",
    "\n",
    "# Save to JSON file - Reference: https://www.geeksforgeeks.org/writing-to-file-in-python/\n",
    "my_file = open(r\"relevant_fires.json\", \"w\")\n",
    "my_file.write(json.dumps(fires_in_range_list, indent=4)) # Source: borrowed part of a line of code from Prof example\n",
    "my_file.close()\n",
    "print(\"Done!\")\n"
   ]
  },
  {
   "cell_type": "markdown",
   "id": "800e430e",
   "metadata": {},
   "source": [
    "**---------------------------END PROF CODE REUSE ---------------------------**"
   ]
  },
  {
   "cell_type": "markdown",
   "id": "930fb375",
   "metadata": {},
   "source": [
    "## Create an Estimate for the Smoke Severity"
   ]
  },
  {
   "cell_type": "markdown",
   "id": "33033c30",
   "metadata": {},
   "source": [
    "\n",
    "\n",
    "fire size: \"GIS_Acres\"\n",
    "distance from city\n",
    "duration???\n",
    "- what duration is the EPA AQI provided for? Yearly or for each fire? If annually, I should factor the number of fires into the equation.\n",
    "    * If I wanted to be fancy, I could do a dwindling thing where each week that passes without a fire drops the estimate, while each consecutive week with a fire multiplies it. \n",
    "    * How do I take fire season into account?"
   ]
  },
  {
   "cell_type": "markdown",
   "id": "c44d76ae",
   "metadata": {},
   "source": [
    "Size:\n",
    "- What is the distribution of fire sizes EDA? According to lecture: about 94% of all fires are between 0 and 5000 acres, but can go up to 1.4M acres.\n",
    "- So I need to allow for a huge range of values without my estimate going crazy. \n",
    "- A thought just occurred to me, in a simplistic way, total acreage burned in a year will represent duration, because large fires will probably burn for longer. Also, a bit more of a stretch, but a year with more frequent fires may have higher total acreage burned. \n",
    "    * However, a counter to this is what if there was one really big fire, then the AQI would be really bad for a bit but fine the rest of the year."
   ]
  },
  {
   "cell_type": "markdown",
   "id": "5503737d",
   "metadata": {},
   "source": [
    "Distance from city: \n",
    "- Close fires should have much worse air quality than far away\n",
    "- distance from city matters a lot more than size, because if a fire is far away, the AQI won't be bad at all. "
   ]
  },
  {
   "cell_type": "markdown",
   "id": "3025850b",
   "metadata": {},
   "source": [
    "Summary: how many fires occurred in given year that were \"close\" to the city and significantly large?"
   ]
  },
  {
   "cell_type": "markdown",
   "id": "106f1352",
   "metadata": {},
   "source": [
    "**Description of my Smoke Estimate:**"
   ]
  },
  {
   "cell_type": "markdown",
   "id": "95f6ff6a",
   "metadata": {},
   "source": [
    "Our next task is to create a smoke estimate.\n",
    "First, I consider what will I allow for my range of values. According to airnow.gov, the AQI index ranges from 0 to 500, where 0 is the cleanest air and 500 is the worst [6]. Now, because the assignment requires me to compare my smoke estimate to the AQI information from the EPA, I would like to try to encourage a similar range for most of my estimates. \n",
    "\n",
    "Next, I consider what factors I want to be incorporated into my smoke severity estimate. The assignment instructions provide several helpful ideas saying \"It seems reasonable that a large fire, that burns a large number of acres, and that is close to a city would put more smoke into a city than a small fire that is much further away.\" After giving it some thought, I will base my estimate off 1). each fire's size, measured in the number of acres burned, and 2). its distance from Richland as calculated earlier above.\n",
    "\n",
    "Let's think about each of these factors, starting with acres burned. Now, it makes sense that my smoke estimate should be increase for larger fires and decrease for smaller fires, all else being equal. Additionally, a fire closer to Richland should result in poorer smoke conditions than a fire far away. Taken together, these two factors are at odds with each other, and so I decided to take their ratio for my smoke estimate - yielding: ***acres_burned / distance_from_city***.\n",
    "\n",
    "There are several more changes to make to this estimate to improve it a bit. First, we can convert the acres burned to square miles burned so that the numerator and denominator have the same units. As an aside, the resulting units are now 1/mi, and to be honest I am not sure how to think about a smoke estimator with a unit attached to it, so for the sake of this assignment, I will not concern myself with the estimate's units. \n",
    "\n",
    "While designing my estimator, I revisited the course lecture notes from 10-30-23 and looked at the professor's findings from his exporatory data analysis. According to lecture, about 94% of all fires are between 0 and 5000 acres (approx. 7.8 square miles), but the largest was 1.4M acres (approx. 2,100 square miles). In contrast, the distances I will consider will be no greater than 1,250 miles from Richland. Because the majority of these areas burned are small relative to the distances, I added a scaling factor to the numerator so it will be weighted more evenly, by multiplying by 100. \n",
    "\n",
    "I also wanted to reduce the frequency of more extreme values in my smoke estimates, and so I enforce a heuristic that the minimum distance a fire can be from the city is 1 mile, and that any fire closer than that is treated by the estimate as 1 mile. Simillarly, I enforce a minimum size of burned area (0.5 square miles). Lastly, I want to ensure my estimate has a minimum value of 1, so I take the argmax of the expression and thus my final estimate is:\n",
    "$$argmax(\\frac{\\text{(square_mi_burned * 100)}}{\\text{distance_from_city}}, 1)$$\n",
    "\n",
    "Below is the function I defined to calculate my smoke estimate."
   ]
  },
  {
   "cell_type": "code",
   "execution_count": 12,
   "id": "a7d450f0",
   "metadata": {},
   "outputs": [],
   "source": [
    "#distance_from_city should be provided in miles\n",
    "def calc_smoke_severity_est(acres_burned, distance_from_city):\n",
    "    SCALING_FACTOR = 100\n",
    "    \n",
    "    #convert acres to square miles. I got formula from Google [7]\n",
    "    square_mi_burned = acres_burned / 640\n",
    "    \n",
    "    #to simplify the estimate, set 1 as the minimum\n",
    "    #distance and 0.5 as the minimum square miles burned\n",
    "    if distance_from_city < 1:\n",
    "        distance_from_city = 1\n",
    "    \n",
    "    if square_mi_burned < 0.5:\n",
    "        square_mi_burned = 0.5\n",
    "    \n",
    "    # I learned how to do argmax() in python from [8]\n",
    "    return np.argmax([(square_mi_burned * SCALING_FACTOR) / distance_from_city, 1])"
   ]
  },
  {
   "cell_type": "markdown",
   "id": "40957655",
   "metadata": {},
   "source": [
    "Next steps: \n",
    "- actually filter data to get your list of fires\n",
    "- apply your estimator to the fires\n",
    "- Acquire AQI from EPA\n",
    "- Compare your results to EPA"
   ]
  },
  {
   "cell_type": "markdown",
   "id": "58e76296",
   "metadata": {},
   "source": [
    "## References:\n",
    "- Learning to use .gitignore:\n",
    "    * https://stackoverflow.com/questions/19663093/apply-gitignore-on-an-existing-repository-already-tracking-large-number-of-file\n",
    "    * https://stackoverflow.com/questions/40441450/relative-parent-directory-path-for-gitignore\n",
    "- Learning to work with GIS data:\n",
    "    * [3] wildfire_geo_proximity_example.ipynb. //\"This code example was developed by Dr. David W. McDonald for use in DATA 512, a course in the UW MS Data Science degree program. This code is provided under the [Creative Commons](https://creativecommons.org) [CC-BY license](https://creativecommons.org/licenses/by/4.0/). Revision 1.0 - August 13, 2023\"\n",
    "- [4]. Proffessor's wildfire module\n",
    "- [5]. https://www.latlong.net/place/west-richland-wa-usa-25340.html\n",
    "- [6]. https://www.airnow.gov/aqi/aqi-basics/\n",
    "- [7]. https://www.google.com/search?q=how+to+convert+acres+to+square+miles&rlz=1C1RXQR_enUS1019US1019&oq=how+to+convert+from+acres+to+s&gs_lcrp=EgZjaHJvbWUqCAgDEAAYFhgeMgYIABBFGDkyCAgBEAAYFhgeMggIAhAAGBYYHjIICAMQABgWGB4yCAgEEAAYFhgeMgoIBRAAGIYDGIoFMgoIBhAAGIYDGIoF0gEIOTU3MmowajeoAgCwAgA&sourceid=chrome&ie=UTF-8\n",
    "- [8]. https://www.geeksforgeeks.org/numpy-argmax-python/\n",
    "- [9]. epa_air_quality_history_example.ipynb //\"This code example was developed by Dr. David W. McDonald for use in DATA 512, a course in the UW MS Data Science degree program. This code is provided under the [Creative Commons](https://creativecommons.org) [CC-BY license](https://creativecommons.org/licenses/by/4.0/). Revision 1.1 - September 5, 2023\"\n",
    "- [11]. https://www.census.gov/library/reference/code-lists/ansi.html#cousub \n",
    "- [10]. https://www2.census.gov/geo/docs/reference/codes2020/cousub/st53_wa_cousub2020.txt"
   ]
  }
 ],
 "metadata": {
  "kernelspec": {
   "display_name": "Python 3 (ipykernel)",
   "language": "python",
   "name": "python3"
  },
  "language_info": {
   "codemirror_mode": {
    "name": "ipython",
    "version": 3
   },
   "file_extension": ".py",
   "mimetype": "text/x-python",
   "name": "python",
   "nbconvert_exporter": "python",
   "pygments_lexer": "ipython3",
   "version": "3.10.8"
  }
 },
 "nbformat": 4,
 "nbformat_minor": 5
}
