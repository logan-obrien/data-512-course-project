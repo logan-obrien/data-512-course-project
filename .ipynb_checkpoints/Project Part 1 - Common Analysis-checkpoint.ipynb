{
 "cells": [
  {
   "cell_type": "markdown",
   "id": "c3cdb9ed",
   "metadata": {},
   "source": [
    "# Project Part 1 - Common Analysis"
   ]
  },
  {
   "cell_type": "markdown",
   "id": "bb33623e",
   "metadata": {},
   "source": [
    "**Author: Logan O'Brien** "
   ]
  },
  {
   "cell_type": "markdown",
   "id": "81ffab23",
   "metadata": {},
   "source": [
    "## Step 1: Create the Fire Smoke Estimates"
   ]
  },
  {
   "cell_type": "markdown",
   "id": "86dddf88",
   "metadata": {},
   "source": [
    "**EDA:**\n",
    "- What is the data structure and fields?"
   ]
  },
  {
   "cell_type": "code",
   "execution_count": null,
   "id": "7271e127",
   "metadata": {},
   "outputs": [],
   "source": []
  },
  {
   "cell_type": "markdown",
   "id": "edd0bfaa",
   "metadata": {},
   "source": [
    "## References:\n",
    "- "
   ]
  }
 ],
 "metadata": {
  "kernelspec": {
   "display_name": "Python 3 (ipykernel)",
   "language": "python",
   "name": "python3"
  },
  "language_info": {
   "codemirror_mode": {
    "name": "ipython",
    "version": 3
   },
   "file_extension": ".py",
   "mimetype": "text/x-python",
   "name": "python",
   "nbconvert_exporter": "python",
   "pygments_lexer": "ipython3",
   "version": "3.10.9"
  }
 },
 "nbformat": 4,
 "nbformat_minor": 5
}
